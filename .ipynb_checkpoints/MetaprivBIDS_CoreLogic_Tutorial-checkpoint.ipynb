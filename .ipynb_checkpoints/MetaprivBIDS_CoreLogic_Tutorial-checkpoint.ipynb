{
 "cells": [
  {
   "cell_type": "code",
   "execution_count": 1,
   "id": "4ef1bba8",
   "metadata": {},
   "outputs": [],
   "source": [
    "import pprint\n",
    "import numpy as np "
   ]
  },
  {
   "cell_type": "markdown",
   "id": "907eb645",
   "metadata": {},
   "source": [
    "## Importing library for MetaprivBIDS"
   ]
  },
  {
   "cell_type": "code",
   "execution_count": 2,
   "id": "ea8c4b4f",
   "metadata": {},
   "outputs": [
    {
     "name": "stdout",
     "output_type": "stream",
     "text": [
      "Core logic imported and initialized successfully!\n"
     ]
    }
   ],
   "source": [
    "from metaprivBIDS.corelogic.metapriv_corelogic import metaprivBIDS_core_logic\n",
    "\n",
    "metapriv = metaprivBIDS_core_logic()\n",
    "print(\"Core logic imported and initialized successfully!\")"
   ]
  },
  {
   "cell_type": "code",
   "execution_count": 3,
   "id": "1348d075",
   "metadata": {},
   "outputs": [
    {
     "name": "stdout",
     "output_type": "stream",
     "text": [
      "Column Types: \n",
      "\n",
      "[('age', 51, 'Continuous'), ('education', 14, 'Categorical'), ('marital-status', 7, 'Categorical'), ('occupation', 12, 'Categorical'), ('relationship', 6, 'Categorical'), ('sex', 2, 'Categorical'), ('salary-class', 2, 'Categorical'), ('disease', 5, 'Categorical'), ('exercise_weekly_hours', 6, 'Categorical')] \n",
      "\n",
      "age                       int64\n",
      "education                object\n",
      "marital-status           object\n",
      "occupation               object\n",
      "relationship             object\n",
      "sex                      object\n",
      "salary-class             object\n",
      "disease                  object\n",
      "exercise_weekly_hours     int64\n",
      "dtype: object \n",
      "\n",
      "None\n",
      "Find Influential Columns: \n",
      "\n",
      "{'age': {'difference': 58,\n",
      "         'normalized_difference': 1.1,\n",
      "         'unique_count_after_removal': 122},\n",
      " 'education': {'difference': 14,\n",
      "               'normalized_difference': 1.0,\n",
      "               'unique_count_after_removal': 166},\n",
      " 'marital-status': {'difference': 2,\n",
      "                    'normalized_difference': 0.3,\n",
      "                    'unique_count_after_removal': 178},\n",
      " 'occupation': {'difference': 6,\n",
      "                'normalized_difference': 0.5,\n",
      "                'unique_count_after_removal': 174},\n",
      " 'relationship': {'difference': 2,\n",
      "                  'normalized_difference': 0.3,\n",
      "                  'unique_count_after_removal': 178},\n",
      " 'salary-class': {'difference': 0,\n",
      "                  'normalized_difference': 0.0,\n",
      "                  'unique_count_after_removal': 180},\n",
      " 'sex': {'difference': 2,\n",
      "         'normalized_difference': 1.0,\n",
      "         'unique_count_after_removal': 178}}\n"
     ]
    }
   ],
   "source": [
    "# Load the data\n",
    "data_info = metapriv.load_data('Use_Case_Data/adult_mini.csv')\n",
    "\n",
    "# Inspect {column, unique value count, column type}\n",
    "data = data_info[\"data\"]\n",
    "print(\"Column Types:\",'\\n')\n",
    "print(data_info[\"column_types\"],'\\n')\n",
    "\n",
    "print(print(data.dtypes,'\\n'))\n",
    "\n",
    "# Select Quasi-Identifiers\n",
    "selected_columns = [\"age\", \"education\", \"marital-status\", \"occupation\", \"relationship\",\"sex\",\"salary-class\"]\n",
    "results = metapriv.find_lowest_unique_columns(data, selected_columns)\n",
    "print('Find Influential Columns:','\\n')\n",
    "pprint.pprint(results)"
   ]
  },
  {
   "cell_type": "markdown",
   "id": "aff66e7a",
   "metadata": {},
   "source": [
    "## Dataset Information "
   ]
  },
  {
   "cell_type": "code",
   "execution_count": 41,
   "id": "8df3fbda",
   "metadata": {},
   "outputs": [
    {
     "data": {
      "text/plain": [
       "{'total_rows': 200,\n",
       " 'total_columns': 9,\n",
       " 'num_selected_columns': 7,\n",
       " 'num_unique_rows': 180,\n",
       " 'k_anonymity': 1,\n",
       " 'l_diversity': 1}"
      ]
     },
     "execution_count": 41,
     "metadata": {},
     "output_type": "execute_result"
    }
   ],
   "source": [
    "metapriv.calculate_unique_rows(data, selected_columns, sensitive_attr='disease')"
   ]
  },
  {
   "cell_type": "markdown",
   "id": "12ee7efd",
   "metadata": {},
   "source": [
    "## Personal information Factor (PIF)"
   ]
  },
  {
   "cell_type": "code",
   "execution_count": 9,
   "id": "eef2a0d4",
   "metadata": {},
   "outputs": [
    {
     "name": "stdout",
     "output_type": "stream",
     "text": [
      "Enter a mask value (or leave blank to skip):nan\n",
      "Enter percentile (0-100): 95\n",
      "PIF Value: 21.8882683519949\n",
      "CIG DataFrame:\n"
     ]
    },
    {
     "data": {
      "text/html": [
       "<div>\n",
       "<style scoped>\n",
       "    .dataframe tbody tr th:only-of-type {\n",
       "        vertical-align: middle;\n",
       "    }\n",
       "\n",
       "    .dataframe tbody tr th {\n",
       "        vertical-align: top;\n",
       "    }\n",
       "\n",
       "    .dataframe thead th {\n",
       "        text-align: right;\n",
       "    }\n",
       "</style>\n",
       "<table border=\"1\" class=\"dataframe\">\n",
       "  <thead>\n",
       "    <tr style=\"text-align: right;\">\n",
       "      <th></th>\n",
       "      <th>age</th>\n",
       "      <th>education</th>\n",
       "      <th>marital-status</th>\n",
       "      <th>occupation</th>\n",
       "      <th>relationship</th>\n",
       "      <th>sex</th>\n",
       "      <th>salary-class</th>\n",
       "      <th>RIG</th>\n",
       "    </tr>\n",
       "  </thead>\n",
       "  <tbody>\n",
       "    <tr>\n",
       "      <th>169</th>\n",
       "      <td>7.643856</td>\n",
       "      <td>4.473931</td>\n",
       "      <td>6.058894</td>\n",
       "      <td>2.888969</td>\n",
       "      <td>2.029146</td>\n",
       "      <td>1.736966</td>\n",
       "      <td>0.386468</td>\n",
       "      <td>25.218230</td>\n",
       "    </tr>\n",
       "    <tr>\n",
       "      <th>167</th>\n",
       "      <td>5.643856</td>\n",
       "      <td>3.836501</td>\n",
       "      <td>6.058894</td>\n",
       "      <td>5.321928</td>\n",
       "      <td>3.395929</td>\n",
       "      <td>0.514573</td>\n",
       "      <td>0.386468</td>\n",
       "      <td>25.158149</td>\n",
       "    </tr>\n",
       "    <tr>\n",
       "      <th>37</th>\n",
       "      <td>5.321928</td>\n",
       "      <td>1.785875</td>\n",
       "      <td>7.643856</td>\n",
       "      <td>3.473931</td>\n",
       "      <td>4.058894</td>\n",
       "      <td>1.736966</td>\n",
       "      <td>0.386468</td>\n",
       "      <td>24.407918</td>\n",
       "    </tr>\n",
       "    <tr>\n",
       "      <th>195</th>\n",
       "      <td>5.321928</td>\n",
       "      <td>6.643856</td>\n",
       "      <td>1.029146</td>\n",
       "      <td>5.321928</td>\n",
       "      <td>4.836501</td>\n",
       "      <td>0.514573</td>\n",
       "      <td>0.386468</td>\n",
       "      <td>24.054402</td>\n",
       "    </tr>\n",
       "    <tr>\n",
       "      <th>6</th>\n",
       "      <td>4.836501</td>\n",
       "      <td>5.321928</td>\n",
       "      <td>6.058894</td>\n",
       "      <td>3.184425</td>\n",
       "      <td>2.029146</td>\n",
       "      <td>1.736966</td>\n",
       "      <td>0.386468</td>\n",
       "      <td>23.554328</td>\n",
       "    </tr>\n",
       "    <tr>\n",
       "      <th>...</th>\n",
       "      <td>...</td>\n",
       "      <td>...</td>\n",
       "      <td>...</td>\n",
       "      <td>...</td>\n",
       "      <td>...</td>\n",
       "      <td>...</td>\n",
       "      <td>...</td>\n",
       "      <td>...</td>\n",
       "    </tr>\n",
       "    <tr>\n",
       "      <th>136</th>\n",
       "      <td>2.874467</td>\n",
       "      <td>1.785875</td>\n",
       "      <td>1.029146</td>\n",
       "      <td>3.000000</td>\n",
       "      <td>1.268817</td>\n",
       "      <td>0.514573</td>\n",
       "      <td>0.386468</td>\n",
       "      <td>10.859346</td>\n",
       "    </tr>\n",
       "    <tr>\n",
       "      <th>132</th>\n",
       "      <td>2.874467</td>\n",
       "      <td>1.785875</td>\n",
       "      <td>1.029146</td>\n",
       "      <td>3.000000</td>\n",
       "      <td>1.268817</td>\n",
       "      <td>0.514573</td>\n",
       "      <td>0.386468</td>\n",
       "      <td>10.859346</td>\n",
       "    </tr>\n",
       "    <tr>\n",
       "      <th>29</th>\n",
       "      <td>2.874467</td>\n",
       "      <td>1.785875</td>\n",
       "      <td>1.029146</td>\n",
       "      <td>3.000000</td>\n",
       "      <td>1.268817</td>\n",
       "      <td>0.514573</td>\n",
       "      <td>0.386468</td>\n",
       "      <td>10.859346</td>\n",
       "    </tr>\n",
       "    <tr>\n",
       "      <th>65</th>\n",
       "      <td>2.874467</td>\n",
       "      <td>1.785875</td>\n",
       "      <td>1.029146</td>\n",
       "      <td>3.000000</td>\n",
       "      <td>1.268817</td>\n",
       "      <td>0.514573</td>\n",
       "      <td>0.386468</td>\n",
       "      <td>10.859346</td>\n",
       "    </tr>\n",
       "    <tr>\n",
       "      <th>128</th>\n",
       "      <td>5.643856</td>\n",
       "      <td>1.785875</td>\n",
       "      <td>1.029146</td>\n",
       "      <td>0.000000</td>\n",
       "      <td>1.268817</td>\n",
       "      <td>0.514573</td>\n",
       "      <td>0.386468</td>\n",
       "      <td>10.628736</td>\n",
       "    </tr>\n",
       "  </tbody>\n",
       "</table>\n",
       "<p>200 rows × 8 columns</p>\n",
       "</div>"
      ],
      "text/plain": [
       "          age  education  marital-status  occupation  relationship       sex  \\\n",
       "169  7.643856   4.473931        6.058894    2.888969      2.029146  1.736966   \n",
       "167  5.643856   3.836501        6.058894    5.321928      3.395929  0.514573   \n",
       "37   5.321928   1.785875        7.643856    3.473931      4.058894  1.736966   \n",
       "195  5.321928   6.643856        1.029146    5.321928      4.836501  0.514573   \n",
       "6    4.836501   5.321928        6.058894    3.184425      2.029146  1.736966   \n",
       "..        ...        ...             ...         ...           ...       ...   \n",
       "136  2.874467   1.785875        1.029146    3.000000      1.268817  0.514573   \n",
       "132  2.874467   1.785875        1.029146    3.000000      1.268817  0.514573   \n",
       "29   2.874467   1.785875        1.029146    3.000000      1.268817  0.514573   \n",
       "65   2.874467   1.785875        1.029146    3.000000      1.268817  0.514573   \n",
       "128  5.643856   1.785875        1.029146    0.000000      1.268817  0.514573   \n",
       "\n",
       "     salary-class        RIG  \n",
       "169      0.386468  25.218230  \n",
       "167      0.386468  25.158149  \n",
       "37       0.386468  24.407918  \n",
       "195      0.386468  24.054402  \n",
       "6        0.386468  23.554328  \n",
       "..            ...        ...  \n",
       "136      0.386468  10.859346  \n",
       "132      0.386468  10.859346  \n",
       "29       0.386468  10.859346  \n",
       "65       0.386468  10.859346  \n",
       "128      0.386468  10.628736  \n",
       "\n",
       "[200 rows x 8 columns]"
      ]
     },
     "execution_count": 9,
     "metadata": {},
     "output_type": "execute_result"
    }
   ],
   "source": [
    "pif_value, cig_df = metapriv.compute_cig(data, selected_columns)\n",
    "print(\"PIF Value:\", pif_value)\n",
    "print(\"CIG DataFrame:\")\n",
    "cig_df"
   ]
  },
  {
   "cell_type": "code",
   "execution_count": 10,
   "id": "b1daa9b2",
   "metadata": {},
   "outputs": [
    {
     "data": {
      "text/plain": [
       "age               997.647833\n",
       "education         569.388028\n",
       "marital-status    354.753831\n",
       "occupation        629.661075\n",
       "relationship      431.933808\n",
       "sex               174.258180\n",
       "salary-class      157.325222\n",
       "dtype: float64"
      ]
     },
     "execution_count": 10,
     "metadata": {},
     "output_type": "execute_result"
    }
   ],
   "source": [
    "columns_to_sum = [col for col in cig_df.columns if col != 'RIG']\n",
    "column_sums = cig_df[columns_to_sum].sum()\n",
    "column_sums"
   ]
  },
  {
   "cell_type": "code",
   "execution_count": 11,
   "id": "10836951",
   "metadata": {},
   "outputs": [
    {
     "name": "stdout",
     "output_type": "stream",
     "text": [
      "Outliers detected in column 'RIG' above threshold 2.5:\n",
      "Index: 169, Value: 25.218230041679757, Z-Score: 2.809188988099669\n",
      "Index: 167, Value: 25.158149437675746, Z-Score: 2.7901779948713976\n",
      "Index: 37, Value: 24.4079182979435, Z-Score: 2.5527862549991385\n"
     ]
    },
    {
     "data": {
      "image/png": "[encoded data removed]",
      "text/plain": [
       "<Figure size 800x500 with 1 Axes>"
      ]
     },
     "metadata": {},
     "output_type": "display_data"
    }
   ],
   "source": [
    "metapriv.save_boxplot(cig_df, column_name=\"RIG\", k=2.5)"
   ]
  },
  {
   "cell_type": "markdown",
   "id": "a8ba604f",
   "metadata": {},
   "source": [
    "## Sample Unique Detection Algorithm (SUDA)"
   ]
  },
  {
   "cell_type": "code",
   "execution_count": 23,
   "id": "a958f0ce",
   "metadata": {},
   "outputs": [
    {
     "name": "stdout",
     "output_type": "stream",
     "text": [
      "Data with Scores & Dis-Scores:\n",
      "\n",
      "Attribute Contributions:\n",
      "         variable  contribution\n",
      "0             age         73.74\n",
      "3      occupation         38.36\n",
      "1       education         33.39\n",
      "4    relationship         20.74\n",
      "2  marital-status         17.61\n",
      "5             sex          9.71\n",
      "6    salary-class          7.43\n",
      "\n",
      "Attribute Level Contributions:\n",
      "        variable  attribute  contribution\n",
      "13           age       31.0          4.16\n",
      "25           age       43.0          3.39\n",
      "28           age       46.0          3.29\n",
      "27           age       45.0          3.25\n",
      "22           age       40.0          3.20\n",
      "..           ...        ...           ...\n",
      "90  relationship        5.0         12.16\n",
      "94  salary-class        1.0         65.02\n",
      "93  salary-class        0.0         34.98\n",
      "91           sex        0.0         62.57\n",
      "92           sex        1.0         37.43\n",
      "\n",
      "[95 rows x 3 columns]\n"
     ]
    },
    {
     "data": {
      "text/html": [
       "<div>\n",
       "<style scoped>\n",
       "    .dataframe tbody tr th:only-of-type {\n",
       "        vertical-align: middle;\n",
       "    }\n",
       "\n",
       "    .dataframe tbody tr th {\n",
       "        vertical-align: top;\n",
       "    }\n",
       "\n",
       "    .dataframe thead th {\n",
       "        text-align: right;\n",
       "    }\n",
       "</style>\n",
       "<table border=\"1\" class=\"dataframe\">\n",
       "  <thead>\n",
       "    <tr style=\"text-align: right;\">\n",
       "      <th></th>\n",
       "      <th>age</th>\n",
       "      <th>education</th>\n",
       "      <th>marital-status</th>\n",
       "      <th>occupation</th>\n",
       "      <th>relationship</th>\n",
       "      <th>sex</th>\n",
       "      <th>salary-class</th>\n",
       "      <th>dis-score</th>\n",
       "      <th>score</th>\n",
       "    </tr>\n",
       "  </thead>\n",
       "  <tbody>\n",
       "    <tr>\n",
       "      <th>160</th>\n",
       "      <td>68</td>\n",
       "      <td>2</td>\n",
       "      <td>0</td>\n",
       "      <td>-1</td>\n",
       "      <td>1</td>\n",
       "      <td>0</td>\n",
       "      <td>0</td>\n",
       "      <td>0.9716</td>\n",
       "      <td>1440.0</td>\n",
       "    </tr>\n",
       "    <tr>\n",
       "      <th>106</th>\n",
       "      <td>17</td>\n",
       "      <td>0</td>\n",
       "      <td>4</td>\n",
       "      <td>-1</td>\n",
       "      <td>3</td>\n",
       "      <td>0</td>\n",
       "      <td>0</td>\n",
       "      <td>0.9636</td>\n",
       "      <td>1128.0</td>\n",
       "    </tr>\n",
       "    <tr>\n",
       "      <th>167</th>\n",
       "      <td>46</td>\n",
       "      <td>11</td>\n",
       "      <td>6</td>\n",
       "      <td>8</td>\n",
       "      <td>4</td>\n",
       "      <td>1</td>\n",
       "      <td>0</td>\n",
       "      <td>0.9628</td>\n",
       "      <td>1104.0</td>\n",
       "    </tr>\n",
       "    <tr>\n",
       "      <th>169</th>\n",
       "      <td>66</td>\n",
       "      <td>7</td>\n",
       "      <td>6</td>\n",
       "      <td>7</td>\n",
       "      <td>1</td>\n",
       "      <td>0</td>\n",
       "      <td>0</td>\n",
       "      <td>0.9624</td>\n",
       "      <td>1092.0</td>\n",
       "    </tr>\n",
       "    <tr>\n",
       "      <th>37</th>\n",
       "      <td>19</td>\n",
       "      <td>10</td>\n",
       "      <td>1</td>\n",
       "      <td>0</td>\n",
       "      <td>5</td>\n",
       "      <td>0</td>\n",
       "      <td>0</td>\n",
       "      <td>0.9622</td>\n",
       "      <td>1086.0</td>\n",
       "    </tr>\n",
       "    <tr>\n",
       "      <th>...</th>\n",
       "      <td>...</td>\n",
       "      <td>...</td>\n",
       "      <td>...</td>\n",
       "      <td>...</td>\n",
       "      <td>...</td>\n",
       "      <td>...</td>\n",
       "      <td>...</td>\n",
       "      <td>...</td>\n",
       "      <td>...</td>\n",
       "    </tr>\n",
       "    <tr>\n",
       "      <th>138</th>\n",
       "      <td>20</td>\n",
       "      <td>13</td>\n",
       "      <td>4</td>\n",
       "      <td>9</td>\n",
       "      <td>3</td>\n",
       "      <td>1</td>\n",
       "      <td>0</td>\n",
       "      <td>0.0000</td>\n",
       "      <td>0.0</td>\n",
       "    </tr>\n",
       "    <tr>\n",
       "      <th>47</th>\n",
       "      <td>44</td>\n",
       "      <td>11</td>\n",
       "      <td>0</td>\n",
       "      <td>2</td>\n",
       "      <td>4</td>\n",
       "      <td>0</td>\n",
       "      <td>0</td>\n",
       "      <td>0.0000</td>\n",
       "      <td>0.0</td>\n",
       "    </tr>\n",
       "    <tr>\n",
       "      <th>124</th>\n",
       "      <td>19</td>\n",
       "      <td>13</td>\n",
       "      <td>4</td>\n",
       "      <td>6</td>\n",
       "      <td>3</td>\n",
       "      <td>1</td>\n",
       "      <td>0</td>\n",
       "      <td>0.0000</td>\n",
       "      <td>0.0</td>\n",
       "    </tr>\n",
       "    <tr>\n",
       "      <th>162</th>\n",
       "      <td>44</td>\n",
       "      <td>11</td>\n",
       "      <td>0</td>\n",
       "      <td>2</td>\n",
       "      <td>4</td>\n",
       "      <td>0</td>\n",
       "      <td>0</td>\n",
       "      <td>0.0000</td>\n",
       "      <td>0.0</td>\n",
       "    </tr>\n",
       "    <tr>\n",
       "      <th>153</th>\n",
       "      <td>21</td>\n",
       "      <td>10</td>\n",
       "      <td>4</td>\n",
       "      <td>1</td>\n",
       "      <td>3</td>\n",
       "      <td>1</td>\n",
       "      <td>0</td>\n",
       "      <td>0.0000</td>\n",
       "      <td>0.0</td>\n",
       "    </tr>\n",
       "  </tbody>\n",
       "</table>\n",
       "<p>200 rows × 9 columns</p>\n",
       "</div>"
      ],
      "text/plain": [
       "     age  education  marital-status  occupation  relationship  sex  \\\n",
       "160   68          2               0          -1             1    0   \n",
       "106   17          0               4          -1             3    0   \n",
       "167   46         11               6           8             4    1   \n",
       "169   66          7               6           7             1    0   \n",
       "37    19         10               1           0             5    0   \n",
       "..   ...        ...             ...         ...           ...  ...   \n",
       "138   20         13               4           9             3    1   \n",
       "47    44         11               0           2             4    0   \n",
       "124   19         13               4           6             3    1   \n",
       "162   44         11               0           2             4    0   \n",
       "153   21         10               4           1             3    1   \n",
       "\n",
       "     salary-class  dis-score   score  \n",
       "160             0     0.9716  1440.0  \n",
       "106             0     0.9636  1128.0  \n",
       "167             0     0.9628  1104.0  \n",
       "169             0     0.9624  1092.0  \n",
       "37              0     0.9622  1086.0  \n",
       "..            ...        ...     ...  \n",
       "138             0     0.0000     0.0  \n",
       "47              0     0.0000     0.0  \n",
       "124             0     0.0000     0.0  \n",
       "162             0     0.0000     0.0  \n",
       "153             0     0.0000     0.0  \n",
       "\n",
       "[200 rows x 9 columns]"
      ]
     },
     "execution_count": 23,
     "metadata": {},
     "output_type": "execute_result"
    }
   ],
   "source": [
    "results_suda = metapriv.compute_suda2(data, selected_columns, sample_fraction=0.2, missing_value= np.nan)\n",
    "# Print the results\n",
    "print(\"Data with Scores & Dis-Scores:\")\n",
    "print(\"\\nAttribute Contributions:\")\n",
    "print(results_suda[\"attribute_contributions\"])\n",
    "\n",
    "print(\"\\nAttribute Level Contributions:\")\n",
    "pprint.pprint(results_suda[\"attribute_level_contributions\"])\n",
    "results_suda = results_suda[\"data_with_scores\"].sort_values(by=\"dis-score\", ascending=False)\n",
    "results_suda"
   ]
  },
  {
   "cell_type": "markdown",
   "id": "76dffc24",
   "metadata": {},
   "source": [
    "##### Here you can choose to find outliers for the raw score \"score\" or the normalised score \"dis-score\""
   ]
  },
  {
   "cell_type": "code",
   "execution_count": 15,
   "id": "f2432153",
   "metadata": {},
   "outputs": [
    {
     "name": "stdout",
     "output_type": "stream",
     "text": [
      "Outliers detected in column 'score' above threshold 2.5:\n",
      "Index: 160, Value: 1440.0, Z-Score: 6.023441860465116\n",
      "Index: 106, Value: 1128.0, Z-Score: 4.392093023255814\n",
      "Index: 167, Value: 1104.0, Z-Score: 4.26660465116279\n",
      "Index: 169, Value: 1092.0, Z-Score: 4.203860465116279\n",
      "Index: 37, Value: 1086.0, Z-Score: 4.1724883720930235\n",
      "Index: 77, Value: 1080.0, Z-Score: 4.1411162790697675\n",
      "Index: 6, Value: 984.0, Z-Score: 3.6391627906976742\n",
      "Index: 157, Value: 984.0, Z-Score: 3.6391627906976742\n",
      "Index: 61, Value: 966.0, Z-Score: 3.545046511627907\n",
      "Index: 144, Value: 888.0, Z-Score: 3.1372093023255814\n",
      "Index: 27, Value: 840.0, Z-Score: 2.8862325581395347\n",
      "Index: 195, Value: 840.0, Z-Score: 2.8862325581395347\n",
      "Index: 148, Value: 840.0, Z-Score: 2.8862325581395347\n",
      "Index: 74, Value: 816.0, Z-Score: 2.760744186046512\n",
      "Index: 21, Value: 792.0, Z-Score: 2.6352558139534885\n",
      "Index: 100, Value: 774.0, Z-Score: 2.541139534883721\n"
     ]
    },
    {
     "data": {
      "image/png": "[encoded data removed]",
      "text/plain": [
       "<Figure size 800x500 with 1 Axes>"
      ]
     },
     "metadata": {},
     "output_type": "display_data"
    }
   ],
   "source": [
    "metapriv.save_boxplot(results_suda, column_name=\"score\", k=2.5)"
   ]
  },
  {
   "cell_type": "markdown",
   "id": "b2fab683",
   "metadata": {},
   "source": [
    "## Overview of result\n"
   ]
  },
  {
   "cell_type": "markdown",
   "id": "9a85a5df",
   "metadata": {},
   "source": [
    "- k-Anonymity = 1 \n",
    "\n",
    "- L-diversity = 1\n",
    "_________________\n",
    "\n",
    "- According to K-global\n",
    "{age (1.1) , education (1.0), occupation (0.5)} are the variables that has the highest normalized effect on k-anonymity. \n",
    "\n",
    "- PIF \n",
    "\n",
    "95% of rows have row information gain under og equal to 21.9\n",
    "from outlier detection we find 3 rows of high risk. \n",
    "\n",
    "    - Index: 169, Value: 25.218230041679757, Z-Score: 2.809188988099669\n",
    "    - Index: 167, Value: 25.158149437675746, Z-Score: 2.7901779948713976\n",
    "    - Index: 37, Value: 24.4079182979435, Z-Score: 2.5527862549991385\n",
    "\n",
    "PIF Identifies \n",
    "\n",
    "- age               997.647833\n",
    "- occupation        629.661075\n",
    "- education         569.388028\n",
    "\n",
    "\n",
    "As the 3 higest contributing variables to re-identifcation. \n",
    "\n",
    "\n",
    "\n",
    "- SUDA \n",
    "\n",
    "From suda we find 16 outliers \n",
    "\n",
    "    - Index: 160, Value: 1440.0, Z-Score: 6.023441860465116\n",
    "    - Index: 106, Value: 1128.0, Z-Score: 4.392093023255814\n",
    "    - Index: 167, Value: 1104.0, Z-Score: 4.26660465116279\n",
    "    - Index: 169, Value: 1092.0, Z-Score: 4.203860465116279\n",
    "    - Index: 37, Value: 1086.0, Z-Score: 4.1724883720930235\n",
    "    - Index: 77, Value: 1080.0, Z-Score: 4.1411162790697675\n",
    "    - Index: 6, Value: 984.0, Z-Score: 3.6391627906976742\n",
    "    - Index: 157, Value: 984.0, Z-Score: 3.6391627906976742\n",
    "    - Index: 61, Value: 966.0, Z-Score: 3.545046511627907\n",
    "    - Index: 144, Value: 888.0, Z-Score: 3.1372093023255814\n",
    "    - Index: 27, Value: 840.0, Z-Score: 2.8862325581395347\n",
    "    - Index: 195, Value: 840.0, Z-Score: 2.8862325581395347\n",
    "    - Index: 148, Value: 840.0, Z-Score: 2.8862325581395347\n",
    "    - Index: 74, Value: 816.0, Z-Score: 2.760744186046512\n",
    "    - Index: 21, Value: 792.0, Z-Score: 2.6352558139534885\n",
    "    - Index: 100, Value: 774.0, Z-Score: 2.541139534883721\n",
    "\n",
    "SUDA identifies\n",
    "\n",
    "- age         73.74\n",
    "- occupation         38.36\n",
    "- education         33.39\n",
    "\n",
    "As the 3 higest contributing variables to re-identifcation. "
   ]
  },
  {
   "cell_type": "markdown",
   "id": "f58fbdcc",
   "metadata": {},
   "source": [
    "## Lowering the risk \n",
    "Given the consensus between all 3 methods risk identification we are going to focus on age, occupation and education to lower overall risk in the dataset. "
   ]
  },
  {
   "cell_type": "code",
   "execution_count": 4,
   "id": "ee502a87",
   "metadata": {},
   "outputs": [
    {
     "data": {
      "text/html": [
       "<div>\n",
       "<style scoped>\n",
       "    .dataframe tbody tr th:only-of-type {\n",
       "        vertical-align: middle;\n",
       "    }\n",
       "\n",
       "    .dataframe tbody tr th {\n",
       "        vertical-align: top;\n",
       "    }\n",
       "\n",
       "    .dataframe thead th {\n",
       "        text-align: right;\n",
       "    }\n",
       "</style>\n",
       "<table border=\"1\" class=\"dataframe\">\n",
       "  <thead>\n",
       "    <tr style=\"text-align: right;\">\n",
       "      <th></th>\n",
       "      <th>age</th>\n",
       "      <th>education</th>\n",
       "      <th>marital-status</th>\n",
       "      <th>occupation</th>\n",
       "      <th>relationship</th>\n",
       "      <th>sex</th>\n",
       "      <th>salary-class</th>\n",
       "      <th>disease</th>\n",
       "      <th>exercise_weekly_hours</th>\n",
       "    </tr>\n",
       "  </thead>\n",
       "  <tbody>\n",
       "    <tr>\n",
       "      <th>0</th>\n",
       "      <td>39</td>\n",
       "      <td>Bachelors</td>\n",
       "      <td>Never-married</td>\n",
       "      <td>Adm-clerical</td>\n",
       "      <td>Not-in-family</td>\n",
       "      <td>Male</td>\n",
       "      <td>&lt;=50K</td>\n",
       "      <td>Hypertension</td>\n",
       "      <td>2</td>\n",
       "    </tr>\n",
       "    <tr>\n",
       "      <th>1</th>\n",
       "      <td>50</td>\n",
       "      <td>Bachelors</td>\n",
       "      <td>Married-civ-spouse</td>\n",
       "      <td>Exec-managerial</td>\n",
       "      <td>Husband</td>\n",
       "      <td>Male</td>\n",
       "      <td>&lt;=50K</td>\n",
       "      <td>Asthma</td>\n",
       "      <td>0</td>\n",
       "    </tr>\n",
       "    <tr>\n",
       "      <th>2</th>\n",
       "      <td>38</td>\n",
       "      <td>HS-grad</td>\n",
       "      <td>Divorced</td>\n",
       "      <td>Handlers-cleaners</td>\n",
       "      <td>Not-in-family</td>\n",
       "      <td>Male</td>\n",
       "      <td>&lt;=50K</td>\n",
       "      <td>Diabetes</td>\n",
       "      <td>6</td>\n",
       "    </tr>\n",
       "    <tr>\n",
       "      <th>3</th>\n",
       "      <td>53</td>\n",
       "      <td>11th</td>\n",
       "      <td>Married-civ-spouse</td>\n",
       "      <td>Handlers-cleaners</td>\n",
       "      <td>Husband</td>\n",
       "      <td>Male</td>\n",
       "      <td>&lt;=50K</td>\n",
       "      <td>Diabetes</td>\n",
       "      <td>10</td>\n",
       "    </tr>\n",
       "    <tr>\n",
       "      <th>4</th>\n",
       "      <td>28</td>\n",
       "      <td>Bachelors</td>\n",
       "      <td>Married-civ-spouse</td>\n",
       "      <td>Prof-specialty</td>\n",
       "      <td>Wife</td>\n",
       "      <td>Female</td>\n",
       "      <td>&lt;=50K</td>\n",
       "      <td>Cancer</td>\n",
       "      <td>2</td>\n",
       "    </tr>\n",
       "  </tbody>\n",
       "</table>\n",
       "</div>"
      ],
      "text/plain": [
       "   age   education       marital-status          occupation    relationship  \\\n",
       "0   39   Bachelors        Never-married        Adm-clerical   Not-in-family   \n",
       "1   50   Bachelors   Married-civ-spouse     Exec-managerial         Husband   \n",
       "2   38     HS-grad             Divorced   Handlers-cleaners   Not-in-family   \n",
       "3   53        11th   Married-civ-spouse   Handlers-cleaners         Husband   \n",
       "4   28   Bachelors   Married-civ-spouse      Prof-specialty            Wife   \n",
       "\n",
       "       sex salary-class       disease  exercise_weekly_hours  \n",
       "0     Male        <=50K  Hypertension                      2  \n",
       "1     Male        <=50K        Asthma                      0  \n",
       "2     Male        <=50K      Diabetes                      6  \n",
       "3     Male        <=50K      Diabetes                     10  \n",
       "4   Female        <=50K        Cancer                      2  "
      ]
     },
     "execution_count": 4,
     "metadata": {},
     "output_type": "execute_result"
    }
   ],
   "source": [
    "data.head(5)"
   ]
  },
  {
   "cell_type": "markdown",
   "id": "472ff0e1",
   "metadata": {},
   "source": [
    "## Generalizing values"
   ]
  },
  {
   "cell_type": "markdown",
   "id": "87ec2867",
   "metadata": {},
   "source": [
    "The function below can be re-run as many times as needed. Here \n",
    "('HS-grad', '11th', '9th', '7th-8th', '5th-6th', '10th', '1st-4th') has been made into 'K-12 Education'.\n",
    "Additionally 'Assoc-acdm' and 'Assoc-voc' has been made into 'Assoc'.\n",
    "\n",
    "The function keep track of your changes into the column, hence it does not overwrite if you keep combinging values within the same column.\n",
    "\n",
    "If you change column use new safed dataset. "
   ]
  },
  {
   "cell_type": "code",
   "execution_count": 4,
   "id": "e6bd05ab",
   "metadata": {},
   "outputs": [
    {
     "name": "stdout",
     "output_type": "stream",
     "text": [
      "Unique values in 'relationship': ['Not-in-family' 'Husband' 'Wife' 'Own-child' 'Unmarried' 'Other-relative']\n",
      "Enter values to combine in 'relationship' (comma-separated): 'Husband', 'Wife'\n",
      "Enter the replacement value: Spouse\n"
     ]
    }
   ],
   "source": [
    "data_mod = metapriv.combine_values(data, 'relationship')"
   ]
  },
  {
   "cell_type": "code",
   "execution_count": 7,
   "id": "d6f92d0e",
   "metadata": {},
   "outputs": [
    {
     "name": "stdout",
     "output_type": "stream",
     "text": [
      "Unique values in 'education': ['Bachelors' 'K-12 Education' 'Masters' 'Some-college' 'Assoc-acdm'\n",
      " 'Assoc-voc' 'Doctorate' 'Prof-school']\n",
      "Enter values to combine in 'education' (comma-separated): 'Assoc-acdm', 'Assoc-voc'\n",
      "Enter the replacement value: Assoc\n"
     ]
    }
   ],
   "source": [
    "data_mod = metapriv.combine_values(data_mod, 'education')"
   ]
  },
  {
   "cell_type": "code",
   "execution_count": 26,
   "id": "3397b623",
   "metadata": {},
   "outputs": [
    {
     "name": "stdout",
     "output_type": "stream",
     "text": [
      "Unique values in 'marital-status': ['Never-married' 'Married-civ-spouse' 'Single' 'Married-AF-spouse']\n",
      "Enter values to combine in 'marital-status' (comma-separated): 'Married-civ-spouse','Married-AF-spouse'\n",
      "Enter the replacement value: Married\n"
     ]
    }
   ],
   "source": [
    "data_mod = metapriv.combine_values(data_mod, 'marital-status')"
   ]
  },
  {
   "cell_type": "code",
   "execution_count": 50,
   "id": "c07dbead",
   "metadata": {},
   "outputs": [
    {
     "name": "stdout",
     "output_type": "stream",
     "text": [
      "Unique values in 'occupation': ['Adm-clerical' 'Exec-managerial' 'Manual/Blue-Collar' 'Prof-specialty'\n",
      " 'Other-service' 'Sales' 'Tech-support' nan 'Protective-serv']\n",
      "Enter values to combine in 'occupation' (comma-separated): 'Sales','Other-service','Tech-support','Protective-serv'\n",
      "Enter the replacement value: Service\n"
     ]
    }
   ],
   "source": [
    "data_mod = metapriv.combine_values(data_mod, 'occupation')"
   ]
  },
  {
   "cell_type": "code",
   "execution_count": 51,
   "id": "7f96d66d",
   "metadata": {},
   "outputs": [
    {
     "data": {
      "text/html": [
       "<div>\n",
       "<style scoped>\n",
       "    .dataframe tbody tr th:only-of-type {\n",
       "        vertical-align: middle;\n",
       "    }\n",
       "\n",
       "    .dataframe tbody tr th {\n",
       "        vertical-align: top;\n",
       "    }\n",
       "\n",
       "    .dataframe thead th {\n",
       "        text-align: right;\n",
       "    }\n",
       "</style>\n",
       "<table border=\"1\" class=\"dataframe\">\n",
       "  <thead>\n",
       "    <tr style=\"text-align: right;\">\n",
       "      <th></th>\n",
       "      <th>age</th>\n",
       "      <th>education</th>\n",
       "      <th>marital-status</th>\n",
       "      <th>occupation</th>\n",
       "      <th>relationship</th>\n",
       "      <th>sex</th>\n",
       "      <th>salary-class</th>\n",
       "      <th>disease</th>\n",
       "      <th>exercise_weekly_hours</th>\n",
       "    </tr>\n",
       "  </thead>\n",
       "  <tbody>\n",
       "    <tr>\n",
       "      <th>0</th>\n",
       "      <td>41.579163</td>\n",
       "      <td>Bachelors</td>\n",
       "      <td>Never-married</td>\n",
       "      <td>Adm-clerical</td>\n",
       "      <td>Not-in-family</td>\n",
       "      <td>Male</td>\n",
       "      <td>&lt;=50K</td>\n",
       "      <td>Hypertension</td>\n",
       "      <td>2</td>\n",
       "    </tr>\n",
       "    <tr>\n",
       "      <th>1</th>\n",
       "      <td>49.103462</td>\n",
       "      <td>Bachelors</td>\n",
       "      <td>Married</td>\n",
       "      <td>Exec-managerial</td>\n",
       "      <td>Spouse</td>\n",
       "      <td>Male</td>\n",
       "      <td>&lt;=50K</td>\n",
       "      <td>Asthma</td>\n",
       "      <td>0</td>\n",
       "    </tr>\n",
       "    <tr>\n",
       "      <th>2</th>\n",
       "      <td>39.571385</td>\n",
       "      <td>K-12 Education</td>\n",
       "      <td>Single</td>\n",
       "      <td>Manual/Blue-Collar</td>\n",
       "      <td>Not-in-family</td>\n",
       "      <td>Male</td>\n",
       "      <td>&lt;=50K</td>\n",
       "      <td>Diabetes</td>\n",
       "      <td>6</td>\n",
       "    </tr>\n",
       "    <tr>\n",
       "      <th>3</th>\n",
       "      <td>58.873733</td>\n",
       "      <td>K-12 Education</td>\n",
       "      <td>Married</td>\n",
       "      <td>Manual/Blue-Collar</td>\n",
       "      <td>Spouse</td>\n",
       "      <td>Male</td>\n",
       "      <td>&lt;=50K</td>\n",
       "      <td>Diabetes</td>\n",
       "      <td>10</td>\n",
       "    </tr>\n",
       "    <tr>\n",
       "      <th>4</th>\n",
       "      <td>27.835706</td>\n",
       "      <td>Bachelors</td>\n",
       "      <td>Married</td>\n",
       "      <td>Prof-specialty</td>\n",
       "      <td>Spouse</td>\n",
       "      <td>Female</td>\n",
       "      <td>&lt;=50K</td>\n",
       "      <td>Cancer</td>\n",
       "      <td>2</td>\n",
       "    </tr>\n",
       "  </tbody>\n",
       "</table>\n",
       "</div>"
      ],
      "text/plain": [
       "         age       education marital-status          occupation  \\\n",
       "0  41.579163       Bachelors  Never-married        Adm-clerical   \n",
       "1  49.103462       Bachelors        Married     Exec-managerial   \n",
       "2  39.571385  K-12 Education         Single  Manual/Blue-Collar   \n",
       "3  58.873733  K-12 Education        Married  Manual/Blue-Collar   \n",
       "4  27.835706       Bachelors        Married      Prof-specialty   \n",
       "\n",
       "    relationship      sex salary-class       disease  exercise_weekly_hours  \n",
       "0  Not-in-family     Male        <=50K  Hypertension                      2  \n",
       "1         Spouse     Male        <=50K        Asthma                      0  \n",
       "2  Not-in-family     Male        <=50K      Diabetes                      6  \n",
       "3         Spouse     Male        <=50K      Diabetes                     10  \n",
       "4         Spouse   Female        <=50K        Cancer                      2  "
      ]
     },
     "execution_count": 51,
     "metadata": {},
     "output_type": "execute_result"
    }
   ],
   "source": [
    "data_mod.head(5)"
   ]
  },
  {
   "cell_type": "markdown",
   "id": "529edca3",
   "metadata": {},
   "source": [
    "## Adding noise to 'age' variable"
   ]
  },
  {
   "cell_type": "code",
   "execution_count": 52,
   "id": "4d3a0d4b",
   "metadata": {},
   "outputs": [],
   "source": [
    "data_mod_noise = metapriv.add_noise(data_mod, 'age', 'normal')"
   ]
  },
  {
   "cell_type": "code",
   "execution_count": 53,
   "id": "0fc2d13b",
   "metadata": {},
   "outputs": [
    {
     "data": {
      "text/html": [
       "<div>\n",
       "<style scoped>\n",
       "    .dataframe tbody tr th:only-of-type {\n",
       "        vertical-align: middle;\n",
       "    }\n",
       "\n",
       "    .dataframe tbody tr th {\n",
       "        vertical-align: top;\n",
       "    }\n",
       "\n",
       "    .dataframe thead th {\n",
       "        text-align: right;\n",
       "    }\n",
       "</style>\n",
       "<table border=\"1\" class=\"dataframe\">\n",
       "  <thead>\n",
       "    <tr style=\"text-align: right;\">\n",
       "      <th></th>\n",
       "      <th>age</th>\n",
       "      <th>education</th>\n",
       "      <th>marital-status</th>\n",
       "      <th>occupation</th>\n",
       "      <th>relationship</th>\n",
       "      <th>sex</th>\n",
       "      <th>salary-class</th>\n",
       "      <th>disease</th>\n",
       "      <th>exercise_weekly_hours</th>\n",
       "    </tr>\n",
       "  </thead>\n",
       "  <tbody>\n",
       "    <tr>\n",
       "      <th>0</th>\n",
       "      <td>41.674438</td>\n",
       "      <td>Bachelors</td>\n",
       "      <td>Never-married</td>\n",
       "      <td>Adm-clerical</td>\n",
       "      <td>Not-in-family</td>\n",
       "      <td>Male</td>\n",
       "      <td>&lt;=50K</td>\n",
       "      <td>Hypertension</td>\n",
       "      <td>2</td>\n",
       "    </tr>\n",
       "    <tr>\n",
       "      <th>1</th>\n",
       "      <td>49.169640</td>\n",
       "      <td>Bachelors</td>\n",
       "      <td>Married</td>\n",
       "      <td>Exec-managerial</td>\n",
       "      <td>Spouse</td>\n",
       "      <td>Male</td>\n",
       "      <td>&lt;=50K</td>\n",
       "      <td>Asthma</td>\n",
       "      <td>0</td>\n",
       "    </tr>\n",
       "    <tr>\n",
       "      <th>2</th>\n",
       "      <td>38.098936</td>\n",
       "      <td>K-12 Education</td>\n",
       "      <td>Single</td>\n",
       "      <td>Manual/Blue-Collar</td>\n",
       "      <td>Not-in-family</td>\n",
       "      <td>Male</td>\n",
       "      <td>&lt;=50K</td>\n",
       "      <td>Diabetes</td>\n",
       "      <td>6</td>\n",
       "    </tr>\n",
       "  </tbody>\n",
       "</table>\n",
       "</div>"
      ],
      "text/plain": [
       "         age       education marital-status          occupation  \\\n",
       "0  41.674438       Bachelors  Never-married        Adm-clerical   \n",
       "1  49.169640       Bachelors        Married     Exec-managerial   \n",
       "2  38.098936  K-12 Education         Single  Manual/Blue-Collar   \n",
       "\n",
       "    relationship    sex salary-class       disease  exercise_weekly_hours  \n",
       "0  Not-in-family   Male        <=50K  Hypertension                      2  \n",
       "1         Spouse   Male        <=50K        Asthma                      0  \n",
       "2  Not-in-family   Male        <=50K      Diabetes                      6  "
      ]
     },
     "execution_count": 53,
     "metadata": {},
     "output_type": "execute_result"
    }
   ],
   "source": [
    "data_mod_noise.head(3)"
   ]
  },
  {
   "cell_type": "code",
   "execution_count": 54,
   "id": "fbd9356e",
   "metadata": {},
   "outputs": [
    {
     "data": {
      "text/plain": [
       "{'total_rows': 200,\n",
       " 'total_columns': 9,\n",
       " 'num_selected_columns': 6,\n",
       " 'num_unique_rows': 69,\n",
       " 'k_anonymity': 1,\n",
       " 'l_diversity': 1}"
      ]
     },
     "execution_count": 54,
     "metadata": {},
     "output_type": "execute_result"
    }
   ],
   "source": [
    "selected_columns = [\"education\", \"marital-status\", \"occupation\", \"relationship\",\"sex\",\"salary-class\"]\n",
    "metapriv.calculate_unique_rows(data_mod_noise, selected_columns, sensitive_attr='disease')"
   ]
  },
  {
   "cell_type": "code",
   "execution_count": 55,
   "id": "85be7d2d",
   "metadata": {},
   "outputs": [
    {
     "name": "stdout",
     "output_type": "stream",
     "text": [
      "Find Influential Columns: \n",
      "\n",
      "{'education': {'difference': 43,\n",
      "               'normalized_difference': 6.1,\n",
      "               'unique_count_after_removal': 45},\n",
      " 'marital-status': {'difference': 5,\n",
      "                    'normalized_difference': 1.7,\n",
      "                    'unique_count_after_removal': 83},\n",
      " 'occupation': {'difference': 57,\n",
      "                'normalized_difference': 7.1,\n",
      "                'unique_count_after_removal': 31},\n",
      " 'relationship': {'difference': 14,\n",
      "                  'normalized_difference': 2.8,\n",
      "                  'unique_count_after_removal': 74},\n",
      " 'salary-class': {'difference': 18,\n",
      "                  'normalized_difference': 9.0,\n",
      "                  'unique_count_after_removal': 70},\n",
      " 'sex': {'difference': 20,\n",
      "         'normalized_difference': 10.0,\n",
      "         'unique_count_after_removal': 68}}\n"
     ]
    }
   ],
   "source": [
    "results = metapriv.find_lowest_unique_columns(rounded_data, selected_columns)\n",
    "print('Find Influential Columns:','\\n')\n",
    "pprint.pprint(results)"
   ]
  },
  {
   "cell_type": "code",
   "execution_count": null,
   "id": "931578c3",
   "metadata": {},
   "outputs": [],
   "source": []
  },
  {
   "cell_type": "code",
   "execution_count": null,
   "id": "b12e57da",
   "metadata": {},
   "outputs": [],
   "source": []
  }
 ],
 "metadata": {
  "kernelspec": {
   "display_name": "Python 3 (ipykernel)",
   "language": "python",
   "name": "python3"
  },
  "language_info": {
   "codemirror_mode": {
    "name": "ipython",
    "version": 3
   },
   "file_extension": ".py",
   "mimetype": "text/x-python",
   "name": "python",
   "nbconvert_exporter": "python",
   "pygments_lexer": "ipython3",
   "version": "3.7.12"
  }
 },
 "nbformat": 4,
 "nbformat_minor": 5
}
